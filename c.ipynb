{
 "cells": [
  {
   "cell_type": "code",
   "execution_count": 5,
   "id": "7a16d8ed",
   "metadata": {},
   "outputs": [
    {
     "name": "stdout",
     "output_type": "stream",
     "text": [
      "Enter the nth term of the sequence: 1+cos(n*pi)\n",
      "sequence escllates between 0 and 2\n"
     ]
    }
   ],
   "source": [
    "#2 ILLUSTRATION OF CONVERGENT\n",
    "from sympy import *\n",
    "var('n')\n",
    "a_n = eval(input(\"Enter the nth term of the sequence: \"))\n",
    "lim = limit_seq(a_n , n)\n",
    "if abs(lim) == oo:\n",
    "    print(f'sequence is divergent and the limit is {lim}')\n",
    "elif isinstance(lim , AccumBounds):\n",
    "    print(f'sequence escllates between {lim.min} and {lim.max}')\n",
    "else:\n",
    "    print(f'seqence is convergent and the limit is {lim}')"
   ]
  },
  {
   "cell_type": "code",
   "execution_count": 2,
   "id": "81028493",
   "metadata": {},
   "outputs": [
    {
     "name": "stdout",
     "output_type": "stream",
     "text": [
      "The nth term of the given series\n",
      " -n  3\n",
      "3  ⋅n \n",
      "The limit values of the Cauchy's test 1/3\n",
      "The series is divergent by ratio test\n"
     ]
    }
   ],
   "source": [
    "#7 Cauchy's root test\n",
    "from sympy import *\n",
    "n = symbols('n')\n",
    "a = Lambda(n , nsimplify(n**3/3**n)).doit()\n",
    "ratio = simplify(a(n+1)/a(n))\n",
    "lmt = limit_seq(ratio , n)\n",
    "print(\"The nth term of the given series\")\n",
    "pprint(a(n))\n",
    "print(\"The limit values of the Cauchy's test\" , lmt)\n",
    "if lmt < 1:\n",
    "    print(\"The series is divergent by ratio test\")\n",
    "elif lmt > 1:\n",
    "    print(\"The series is divergent by ratio test\")\n",
    "else:\n",
    "    print(\"The ratio test fails\")"
   ]
  },
  {
   "cell_type": "code",
   "execution_count": 7,
   "id": "2e674222",
   "metadata": {},
   "outputs": [
    {
     "name": "stdout",
     "output_type": "stream",
     "text": [
      "The given vector is\n",
      "   2      3  2\n",
      "3⋅x ⋅y - y ⋅z \n",
      "The divergence of vector F is\n",
      "            ⎛   2      2  2⎞           3\n",
      "6⋅x⋅y v_x + ⎝3⋅x  - 3⋅y ⋅z ⎠ v_y + -2⋅y ⋅z v_z\n"
     ]
    }
   ],
   "source": [
    "#8 Gradient of scalar field\n",
    "from sympy.physics.vector import *\n",
    "from sympy import var , pprint\n",
    "var('x , y , z')\n",
    "v = ReferenceFrame('v')\n",
    "F = 3*v[0]**2*v[1] - v[1]**3*v[2]**2\n",
    "D = gradient(F,v)\n",
    "F = F.subs([(v[0],x) , (v[1] , y) , (v[2],z)])\n",
    "print(\"The given vector is\")\n",
    "pprint(F)\n",
    "D = D.subs([(v[0] , x) , (v[1] , y) , (v[2] , z)])\n",
    "print(\"The divergence of vector F is\")\n",
    "pprint(D)"
   ]
  },
  {
   "cell_type": "code",
   "execution_count": 8,
   "id": "0f4f6b91",
   "metadata": {},
   "outputs": [
    {
     "name": "stdout",
     "output_type": "stream",
     "text": [
      "The given vector is\n",
      " 2            2        2\n",
      "x ⋅y v_x + y⋅z  v_y + x ⋅z v_z\n",
      "The divergence of vector F is\n",
      " 2            2\n",
      "x  + 2⋅x⋅y + z \n"
     ]
    }
   ],
   "source": [
    "#10 Divergence of the vector field\n",
    "from sympy.physics.vector import *\n",
    "from sympy import var , pprint\n",
    "var('x , y , z')\n",
    "v = ReferenceFrame('v')\n",
    "F = v[0]**2*v[1]*v.x + v[1]*v[2]**2 * v.y +v[0]**2*v[2]*v.z\n",
    "D = divergence(F,v)\n",
    "F = F.subs([(v[0],x) , (v[1] , y) , (v[2],z)])\n",
    "print(\"The given vector is\")\n",
    "pprint(F)\n",
    "D = D.subs([(v[0] , x) , (v[1] , y) , (v[2] , z)])\n",
    "print(\"The divergence of vector F is\")\n",
    "pprint(D)"
   ]
  },
  {
   "cell_type": "code",
   "execution_count": 9,
   "id": "ef8d7396",
   "metadata": {},
   "outputs": [
    {
     "name": "stdout",
     "output_type": "stream",
     "text": [
      "The given vector is\n",
      " 2            2        2\n",
      "x ⋅y v_x + y⋅z  v_y + x ⋅z v_z\n",
      "The divergence of vector F is\n",
      "                            2\n",
      "-2⋅y⋅z v_x + -2⋅x⋅z v_y + -x  v_z\n"
     ]
    }
   ],
   "source": [
    "#9 Curl of the vector field\n",
    "from sympy.physics.vector import *\n",
    "from sympy import var , pprint\n",
    "var('x , y , z')\n",
    "v = ReferenceFrame('v')\n",
    "F = v[0]**2*v[1]*v.x + v[1]*v[2]**2 * v.y +v[0]**2*v[2]*v.z #Edit\n",
    "D = curl(F,v)\n",
    "F = F.subs([(v[0],x) , (v[1] , y) , (v[2],z)])\n",
    "print(\"The given vector is\")\n",
    "pprint(F)\n",
    "D = D.subs([(v[0] , x) , (v[1] , y) , (v[2] , z)])\n",
    "print(\"The divergence of vector F is\")\n",
    "pprint(D)"
   ]
  },
  {
   "cell_type": "code",
   "execution_count": 12,
   "id": "4c3bba26",
   "metadata": {},
   "outputs": [
    {
     "name": "stdout",
     "output_type": "stream",
     "text": [
      "The nth term of the given series\n",
      "(n + 2)⋅(2⋅n + 1)⋅(2⋅n + 3)\n",
      "───────────────────────────\n",
      "          2⋅n - 1          \n",
      "The limit values of the Cauchy's test 1\n",
      "The ratio test fails\n",
      "The limit of Raabe's test is oo\n",
      "The given series is convergent using Raabe's test\n"
     ]
    }
   ],
   "source": [
    "#6 Raabe's test\n",
    "from sympy import *\n",
    "n = symbols('n')\n",
    "a = Lambda(n , nsimplify((2*n+3)/(2*n-1)*(2*n)*(2*n+1))).doit()\n",
    "ratio = simplify(a(n+1)/a(n))\n",
    "lmt = limit_seq(ratio , n)\n",
    "print(\"The nth term of the given series\")\n",
    "pprint(a(n))\n",
    "print(\"The limit values of the Cauchy's test\" , lmt)\n",
    "if lmt < 1:\n",
    "    print(\"The series is divergent by ratio test\")\n",
    "elif lmt > 1:\n",
    "    print(\"The series is divergent by ratio test\")\n",
    "else:\n",
    "    print(\"The ratio test fails\")\n",
    "ratio = simplify(n*(a(n)/a(n+1))-1)\n",
    "lmt = limit_seq(ratio , n)\n",
    "print(\"The limit of Raabe's test is\" , lmt)\n",
    "if lmt > 1:\n",
    "    print(\"The given series is convergent using Raabe's test\")\n",
    "elif lmt < 1:\n",
    "    print(\"The given series is divergent using Raabe's test\")\n",
    "else:\n",
    "    print(\"The Raabe's test fails\")"
   ]
  },
  {
   "cell_type": "code",
   "execution_count": 13,
   "id": "5846ece6",
   "metadata": {},
   "outputs": [
    {
     "name": "stdout",
     "output_type": "stream",
     "text": [
      "Enter the exp: 5*n+3\n",
      "the given sequence 5*n+3\n",
      "the given sequence 5*n+3 is oo\n"
     ]
    }
   ],
   "source": [
    "#1 Limit of a sequence\n",
    "from sympy import *\n",
    "n = symbols(\"n\")\n",
    "expr = input(\"Enter the exp: \")\n",
    "print(f'the given sequence {expr}')\n",
    "l = limit(expr , n , oo)\n",
    "print(f'the given sequence {expr} is {l}')"
   ]
  },
  {
   "cell_type": "code",
   "execution_count": null,
   "id": "20d19826",
   "metadata": {},
   "outputs": [],
   "source": []
  }
 ],
 "metadata": {
  "kernelspec": {
   "display_name": "Python 3 (ipykernel)",
   "language": "python",
   "name": "python3"
  },
  "language_info": {
   "codemirror_mode": {
    "name": "ipython",
    "version": 3
   },
   "file_extension": ".py",
   "mimetype": "text/x-python",
   "name": "python",
   "nbconvert_exporter": "python",
   "pygments_lexer": "ipython3",
   "version": "3.10.9"
  }
 },
 "nbformat": 4,
 "nbformat_minor": 5
}
